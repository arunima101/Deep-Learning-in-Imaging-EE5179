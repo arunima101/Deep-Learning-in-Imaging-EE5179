{
 "cells": [
  {
   "cell_type": "code",
   "execution_count": 1,
   "id": "b8dc03cc",
   "metadata": {},
   "outputs": [],
   "source": [
    "import torch\n",
    "import numpy as np\n",
    "import torchvision\n",
    "from torchvision import datasets\n",
    "import torchvision.transforms as transforms\n",
    "from torchvision.transforms import ToTensor\n",
    "import torch.nn as nn\n",
    "import torch.nn.functional as F\n",
    "import matplotlib.pyplot as plt"
   ]
  },
  {
   "cell_type": "markdown",
   "id": "dfb32635",
   "metadata": {},
   "source": [
    "### Loading dataset"
   ]
  },
  {
   "cell_type": "code",
   "execution_count": 2,
   "id": "b352947a",
   "metadata": {},
   "outputs": [
    {
     "name": "stdout",
     "output_type": "stream",
     "text": [
      "Downloading http://yann.lecun.com/exdb/mnist/train-images-idx3-ubyte.gz\n"
     ]
    },
    {
     "name": "stderr",
     "output_type": "stream",
     "text": [
      "\r",
      "0.3%"
     ]
    },
    {
     "name": "stdout",
     "output_type": "stream",
     "text": [
      "Downloading http://yann.lecun.com/exdb/mnist/train-images-idx3-ubyte.gz to data/MNIST/raw/train-images-idx3-ubyte.gz\n"
     ]
    },
    {
     "name": "stderr",
     "output_type": "stream",
     "text": [
      "100.0%\n"
     ]
    },
    {
     "name": "stdout",
     "output_type": "stream",
     "text": [
      "Extracting data/MNIST/raw/train-images-idx3-ubyte.gz to data/MNIST/raw\n",
      "\n",
      "Downloading http://yann.lecun.com/exdb/mnist/train-labels-idx1-ubyte.gz\n",
      "Downloading http://yann.lecun.com/exdb/mnist/train-labels-idx1-ubyte.gz to data/MNIST/raw/train-labels-idx1-ubyte.gz\n"
     ]
    },
    {
     "name": "stderr",
     "output_type": "stream",
     "text": [
      "100.0%\n"
     ]
    },
    {
     "name": "stdout",
     "output_type": "stream",
     "text": [
      "Extracting data/MNIST/raw/train-labels-idx1-ubyte.gz to data/MNIST/raw\n",
      "\n",
      "Downloading http://yann.lecun.com/exdb/mnist/t10k-images-idx3-ubyte.gz\n"
     ]
    },
    {
     "name": "stderr",
     "output_type": "stream",
     "text": [
      "\r",
      "2.0%"
     ]
    },
    {
     "name": "stdout",
     "output_type": "stream",
     "text": [
      "Downloading http://yann.lecun.com/exdb/mnist/t10k-images-idx3-ubyte.gz to data/MNIST/raw/t10k-images-idx3-ubyte.gz\n"
     ]
    },
    {
     "name": "stderr",
     "output_type": "stream",
     "text": [
      "100.0%\n"
     ]
    },
    {
     "name": "stdout",
     "output_type": "stream",
     "text": [
      "Extracting data/MNIST/raw/t10k-images-idx3-ubyte.gz to data/MNIST/raw\n",
      "\n",
      "Downloading http://yann.lecun.com/exdb/mnist/t10k-labels-idx1-ubyte.gz\n"
     ]
    },
    {
     "name": "stderr",
     "output_type": "stream",
     "text": [
      "\r",
      "100.0%"
     ]
    },
    {
     "name": "stdout",
     "output_type": "stream",
     "text": [
      "Downloading http://yann.lecun.com/exdb/mnist/t10k-labels-idx1-ubyte.gz to data/MNIST/raw/t10k-labels-idx1-ubyte.gz\n",
      "Extracting data/MNIST/raw/t10k-labels-idx1-ubyte.gz to data/MNIST/raw\n",
      "\n"
     ]
    },
    {
     "name": "stderr",
     "output_type": "stream",
     "text": [
      "\n"
     ]
    }
   ],
   "source": [
    "num_workers = 0\n",
    "\n",
    "batch_size = 64\n",
    "\n",
    "\n",
    "transform = transforms.ToTensor()\n",
    "\n",
    "\n",
    "train_data = datasets.MNIST(root='data', train=True,\n",
    "                                   download=True, transform=transform)\n",
    "test_data = datasets.MNIST(root='data', train=False,\n",
    "                                  download=True, transform=transform)\n",
    "\n",
    "\n",
    "train_loader = torch.utils.data.DataLoader(train_data, batch_size=batch_size,\n",
    "    num_workers=num_workers)\n",
    "test_loader = torch.utils.data.DataLoader(test_data, batch_size=batch_size, \n",
    "    num_workers=num_workers)"
   ]
  },
  {
   "cell_type": "code",
   "execution_count": 4,
   "id": "9c739641",
   "metadata": {},
   "outputs": [
    {
     "name": "stdout",
     "output_type": "stream",
     "text": [
      "Net(\n",
      "  (fc1): Linear(in_features=784, out_features=500, bias=True)\n",
      "  (fc2): Linear(in_features=500, out_features=250, bias=True)\n",
      "  (fc3): Linear(in_features=250, out_features=100, bias=True)\n",
      "  (fc4): Linear(in_features=100, out_features=10, bias=True)\n",
      ")\n"
     ]
    }
   ],
   "source": [
    "class Net(nn.Module):\n",
    "    def __init__(self):\n",
    "        super(Net, self).__init__()\n",
    "        self.fc1 = nn.Linear(28*28, 500)\n",
    "        \n",
    "        self.fc2 = nn.Linear(500, 250)\n",
    "        \n",
    "        self.fc3=nn.Linear(250,100)\n",
    "               \n",
    "        self.fc4 = nn.Linear(100, 10)\n",
    "\n",
    "    def forward(self, x):\n",
    "        x = x.view(-1, 28*28)\n",
    "        x = torch.relu(self.fc1(x))\n",
    "       \n",
    "        x = torch.relu(self.fc2(x))\n",
    "        \n",
    "        x= torch.relu(self.fc3(x))\n",
    "        return F.log_softmax(self.fc4(x), dim=1)\n",
    "\n",
    "model = Net()\n",
    "optimizer = torch.optim.Adam(model.parameters(), lr=0.01)#for regularization add:\n",
    "                                                        #weight_decay=1e-5\n",
    "criterion = nn.CrossEntropyLoss()\n",
    "\n",
    "print(model)"
   ]
  },
  {
   "cell_type": "markdown",
   "id": "84ef24c7",
   "metadata": {},
   "source": [
    "### For training"
   ]
  },
  {
   "cell_type": "code",
   "execution_count": 5,
   "id": "6471ce25",
   "metadata": {},
   "outputs": [
    {
     "name": "stdout",
     "output_type": "stream",
     "text": [
      "Epoch: 1 \tTraining Loss: 0.308040 \n",
      "Epoch: 2 \tTraining Loss: 0.181709 \n",
      "Epoch: 3 \tTraining Loss: 0.162660 \n",
      "Epoch: 4 \tTraining Loss: 0.152082 \n",
      "Epoch: 5 \tTraining Loss: 0.137056 \n",
      "Epoch: 6 \tTraining Loss: 0.138126 \n",
      "Epoch: 7 \tTraining Loss: 0.115535 \n",
      "Epoch: 8 \tTraining Loss: 0.129611 \n",
      "Epoch: 9 \tTraining Loss: 0.115225 \n",
      "Epoch: 10 \tTraining Loss: 0.114168 \n",
      "Epoch: 11 \tTraining Loss: 0.124805 \n",
      "Epoch: 12 \tTraining Loss: 0.104027 \n",
      "Epoch: 13 \tTraining Loss: 0.104006 \n",
      "Epoch: 14 \tTraining Loss: 0.099566 \n",
      "Epoch: 15 \tTraining Loss: 0.094724 \n"
     ]
    }
   ],
   "source": [
    "n_epochs = 15\n",
    "\n",
    "model.train() # model for training\n",
    "trainloss_data=[]\n",
    "\n",
    "for epoch in range(n_epochs):\n",
    "    \n",
    "    train_loss = 0.0\n",
    "    \n",
    "\n",
    "    for data, target in train_loader:\n",
    "        \n",
    "        optimizer.zero_grad()\n",
    "       \n",
    "        output = model(data)\n",
    "        \n",
    "        #count+=1\n",
    "        loss = criterion(output, target)\n",
    "        \n",
    "        \n",
    "        loss.backward()\n",
    "       \n",
    "        optimizer.step()\n",
    "        \n",
    "        train_loss += loss.item()*data.size(0) \n",
    "        \n",
    "    train_loss = train_loss/len(train_loader.dataset)\n",
    "    \n",
    "    trainloss_data.append(train_loss)\n",
    "   \n",
    "    print('Epoch: {} \\tTraining Loss: {:.6f} '.format(epoch+1,train_loss))"
   ]
  },
  {
   "cell_type": "code",
   "execution_count": 6,
   "id": "64bbf809",
   "metadata": {},
   "outputs": [
    {
     "data": {
      "text/plain": [
       "Text(0.5, 1.0, 'Loss curve for ReLU activation, without regularization')"
      ]
     },
     "execution_count": 6,
     "metadata": {},
     "output_type": "execute_result"
    },
    {
     "data": {
      "image/png": "[encoded data removed]",
      "text/plain": [
       "<Figure size 720x720 with 1 Axes>"
      ]
     },
     "metadata": {
      "needs_background": "light"
     },
     "output_type": "display_data"
    }
   ],
   "source": [
    "x=np.arange(1,16,1)\n",
    "plt.figure(figsize=(10, 10))\n",
    "plt.plot(x,trainloss_data,'--',color='green')\n",
    "plt.xlabel(\"Epochs\")\n",
    "plt.ylabel(\"Loss\")\n",
    "plt.grid(True)\n",
    "plt.title(\"Loss curve for ReLU activation, without regularization\")"
   ]
  },
  {
   "cell_type": "markdown",
   "id": "e20e8f39",
   "metadata": {},
   "source": [
    "### For testing"
   ]
  },
  {
   "cell_type": "code",
   "execution_count": 7,
   "id": "844cc10f",
   "metadata": {},
   "outputs": [
    {
     "name": "stdout",
     "output_type": "stream",
     "text": [
      "Accuracy:  tensor(96.5400)\n"
     ]
    }
   ],
   "source": [
    "model.eval()\n",
    "val_loss, correct = 0, 0\n",
    "for data, target in test_loader:\n",
    "    output = model(data)\n",
    "    val_loss += criterion(output, target).data.item()\n",
    "    pred = output.data.max(1)[1] # get the index of the max log-probability\n",
    "    correct += pred.eq(target.data).cpu().sum()\n",
    "\n",
    "val_loss /= len(test_loader)\n",
    "\n",
    "accuracy = 100. * correct.to(torch.float32) / len(test_loader.dataset)\n",
    "print(\"Accuracy: \",accuracy)"
   ]
  },
  {
   "cell_type": "code",
   "execution_count": null,
   "id": "0df40588",
   "metadata": {},
   "outputs": [],
   "source": []
  }
 ],
 "metadata": {
  "kernelspec": {
   "display_name": "local-venv",
   "language": "python",
   "name": "local-venv"
  },
  "language_info": {
   "codemirror_mode": {
    "name": "ipython",
    "version": 3
   },
   "file_extension": ".py",
   "mimetype": "text/x-python",
   "name": "python",
   "nbconvert_exporter": "python",
   "pygments_lexer": "ipython3",
   "version": "3.10.4"
  }
 },
 "nbformat": 4,
 "nbformat_minor": 5
}
